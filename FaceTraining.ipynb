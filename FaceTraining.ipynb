{
    "cells": [
        {
            "cell_type": "code",
            "execution_count": 32,
            "source": [
                "import os\r\n",
                "import numpy as np\r\n",
                "import cv2\r\n",
                "import xmltodict\r\n",
                "import matplotlib.pyplot as plt\r\n",
                "\r\n",
                "from PIL import Image\r\n",
                "from keras.preprocessing.image import ImageDataGenerator\r\n",
                "from keras.models import Sequential\r\n",
                "from keras.layers import Dense, Conv2D, MaxPool2D, Flatten, BatchNormalization, Flatten, Dropout"
            ],
            "outputs": [],
            "metadata": {}
        },
        {
            "cell_type": "code",
            "execution_count": 2,
            "source": [
                "RAW_PATH_IMAGES = \"./archive/images/\"\r\n",
                "RAW_PATH_IMGDAT = \"./archive/annotations/\""
            ],
            "outputs": [],
            "metadata": {}
        },
        {
            "cell_type": "code",
            "execution_count": 3,
            "source": [
                "RAW_IMAGES = os.listdir(RAW_PATH_IMAGES)\r\n",
                "RAW_IMGDAT = os.listdir(RAW_PATH_IMGDAT)"
            ],
            "outputs": [],
            "metadata": {}
        },
        {
            "cell_type": "code",
            "execution_count": 8,
            "source": [
                "labels = []\r\n",
                "faces = []\r\n",
                "imgCount = 0"
            ],
            "outputs": [],
            "metadata": {}
        },
        {
            "cell_type": "code",
            "execution_count": 22,
            "source": [
                "if not os.path.exists(\"./data/train/without_mask\"):\r\n",
                "        os.makedirs(\"./data/train/without_mask\")\r\n",
                "if not os.path.exists(\"./data/train/with_mask\"):\r\n",
                "        os.makedirs(\"./data/train/with_mask\")\r\n",
                "if not os.path.exists(\"./data/train/mask_weared_incorrect\"):\r\n",
                "        os.makedirs(\"./data/train/mask_weared_incorrect\")\r\n",
                "\r\n",
                "if not os.path.exists(\"./data/test/without_mask\"):\r\n",
                "        os.makedirs(\"./data/test/without_mask\")\r\n",
                "if not os.path.exists(\"./data/test/with_mask\"):\r\n",
                "        os.makedirs(\"./data/test/with_mask\")\r\n",
                "if not os.path.exists(\"./data/test/mask_weared_incorrect\"):\r\n",
                "        os.makedirs(\"./data/test/mask_weared_incorrect\")"
            ],
            "outputs": [],
            "metadata": {}
        },
        {
            "cell_type": "code",
            "execution_count": 23,
            "source": [
                "for i in range(len(RAW_IMAGES)):\r\n",
                "    with open(os.path.join(RAW_PATH_IMGDAT, RAW_IMGDAT[i]), 'r') as f:\r\n",
                "        data = f.read()\r\n",
                "        d = xmltodict.parse(data)[\"annotation\"]\r\n",
                "        dObject = d[\"object\"]\r\n",
                "        img = Image.open(RAW_PATH_IMAGES + RAW_IMAGES[i])\r\n",
                "        if isinstance(dObject, list):\r\n",
                "            for j in dObject:\r\n",
                "                xmin = int(j[\"bndbox\"][\"xmin\"])\r\n",
                "                xmax = int(j[\"bndbox\"][\"xmax\"])\r\n",
                "                ymin = int(j[\"bndbox\"][\"ymin\"])\r\n",
                "                ymax = int(j[\"bndbox\"][\"ymax\"])\r\n",
                "                cropImg = img.crop((xmin, ymin, xmax, ymax))\r\n",
                "                resizeImage = cropImg.resize((128, 128), Image.ANTIALIAS)\r\n",
                "                if i <= 800:\r\n",
                "                    if(j[\"name\"] == \"without_mask\"):\r\n",
                "                        resizeImage.save(\"./data/train/without_mask/\" + str(imgCount) + \".png\")\r\n",
                "                    elif(j[\"name\"] == \"with_mask\"):\r\n",
                "                        resizeImage.save(\"./data/train/with_mask/\" + str(imgCount) + \".png\")\r\n",
                "                    else:\r\n",
                "                        resizeImage.save(\"./data/train/mask_weared_incorrect/\" + str(imgCount) + \".png\")\r\n",
                "                else:\r\n",
                "                    if(j[\"name\"] == \"without_mask\"):\r\n",
                "                        resizeImage.save(\"./data/test/without_mask/\" + str(imgCount) + \".png\")\r\n",
                "                    elif(j[\"name\"] == \"with_mask\"):\r\n",
                "                        resizeImage.save(\"./data/test/with_mask/\" + str(imgCount) + \".png\")\r\n",
                "                    else:\r\n",
                "                        resizeImage.save(\"./data/test/mask_weared_incorrect/\" + str(imgCount) + \".png\")\r\n",
                "                imgCount += 1\r\n",
                "        else:\r\n",
                "            xmin = int(dObject[\"bndbox\"][\"xmin\"])\r\n",
                "            xmax = int(dObject[\"bndbox\"][\"xmax\"])\r\n",
                "            ymin = int(dObject[\"bndbox\"][\"ymin\"])\r\n",
                "            ymax = int(dObject[\"bndbox\"][\"ymax\"])\r\n",
                "            cropImg = img.crop((xmin, ymin, xmax, ymax))\r\n",
                "            resizeImage = cropImg.resize((128, 128), Image.ANTIALIAS)\r\n",
                "            if i <= 800:\r\n",
                "                if(dObject[\"name\"] == \"without_mask\"):\r\n",
                "                    resizeImage.save(\"./data/train/without_mask/\" + str(imgCount) + \".png\")\r\n",
                "                elif(dObject[\"name\"] == \"with_mask\"):\r\n",
                "                    resizeImage.save(\"./data/train/with_mask/\" + str(imgCount) + \".png\")\r\n",
                "                else:\r\n",
                "                    resizeImage.save(\"./data/train/mask_weared_incorrect/\" + str(imgCount) + \".png\")\r\n",
                "            else:\r\n",
                "                if(dObject[\"name\"] == \"without_mask\"):\r\n",
                "                    resizeImage.save(\"./data/test/without_mask/\" + str(imgCount) + \".png\")\r\n",
                "                elif(dObject[\"name\"] == \"with_mask\"):\r\n",
                "                    resizeImage.save(\"./data/test/with_mask/\" + str(imgCount) + \".png\")\r\n",
                "                else:\r\n",
                "                    resizeImage.save(\"./data/test/mask_weared_incorrect/\" + str(imgCount) + \".png\")\r\n",
                "            imgCount += 1"
            ],
            "outputs": [],
            "metadata": {}
        },
        {
            "cell_type": "code",
            "execution_count": 24,
            "source": [
                "trainDataGen = ImageDataGenerator(rescale = 1./255, horizontal_flip = True)\r\n",
                "trainingSet = trainDataGen.flow_from_directory(\"./data/train\", target_size = (128, 128), batch_size = 32)"
            ],
            "outputs": [
                {
                    "output_type": "stream",
                    "name": "stdout",
                    "text": [
                        "Found 3850 images belonging to 3 classes.\n"
                    ]
                }
            ],
            "metadata": {}
        },
        {
            "cell_type": "code",
            "execution_count": 25,
            "source": [
                "testDataGen = ImageDataGenerator(rescale = 1./255, horizontal_flip = True)\r\n",
                "testingSet = trainDataGen.flow_from_directory(\"./data/test\", target_size = (128, 128), batch_size = 32)"
            ],
            "outputs": [
                {
                    "output_type": "stream",
                    "name": "stdout",
                    "text": [
                        "Found 222 images belonging to 3 classes.\n"
                    ]
                }
            ],
            "metadata": {}
        },
        {
            "cell_type": "code",
            "execution_count": 26,
            "source": [
                "trainingSet.class_indices"
            ],
            "outputs": [
                {
                    "output_type": "execute_result",
                    "data": {
                        "text/plain": [
                            "{'mask_weared_incorrect': 0, 'with_mask': 1, 'without_mask': 2}"
                        ]
                    },
                    "metadata": {},
                    "execution_count": 26
                }
            ],
            "metadata": {}
        },
        {
            "cell_type": "code",
            "execution_count": 27,
            "source": [
                "model = Sequential()\r\n",
                "model.add(Conv2D(32, kernel_size = 3, input_shape=(128, 128, 3), activation ='relu', padding = 'Same'))\r\n",
                "model.add(Conv2D(32, kernel_size = 3,  activation ='relu', padding = 'Same'))\r\n",
                "model.add(BatchNormalization())\r\n",
                "model.add(MaxPool2D(pool_size = 2))\r\n",
                "model.add(Dropout(0.25))\r\n",
                "model.add(Conv2D(64, kernel_size = 3, activation ='relu', padding = 'Same'))\r\n",
                "model.add(Conv2D(64, kernel_size = 3, activation ='relu', padding = 'Same'))\r\n",
                "model.add(BatchNormalization())\r\n",
                "model.add(MaxPool2D(pool_size = 2, strides=(2,2)))\r\n",
                "model.add(Dropout(0.25))\r\n",
                "model.add(Flatten())\r\n",
                "model.add(Dense(512, activation='relu'))\r\n",
                "model.add(Dropout(0.5))\r\n",
                "model.add(Dense(3, activation='softmax'))"
            ],
            "outputs": [],
            "metadata": {}
        },
        {
            "cell_type": "code",
            "execution_count": 28,
            "source": [
                "model.compile(loss = \"categorical_crossentropy\", optimizer='Adamax', metrics=[\"accuracy\"])"
            ],
            "outputs": [],
            "metadata": {}
        },
        {
            "cell_type": "code",
            "execution_count": 30,
            "source": [
                "metricVals = model.fit(x = trainingSet, validation_data = testingSet, epochs = 35, verbose = 2)"
            ],
            "outputs": [
                {
                    "output_type": "stream",
                    "name": "stdout",
                    "text": [
                        "Epoch 1/35\n",
                        "121/121 - 283s - loss: 4.3447 - accuracy: 0.8896 - val_loss: 34.8584 - val_accuracy: 0.1306\n",
                        "Epoch 2/35\n",
                        "121/121 - 282s - loss: 0.7450 - accuracy: 0.9135 - val_loss: 30.1205 - val_accuracy: 0.2568\n",
                        "Epoch 3/35\n",
                        "121/121 - 273s - loss: 0.3563 - accuracy: 0.9275 - val_loss: 13.8351 - val_accuracy: 0.6171\n",
                        "Epoch 4/35\n",
                        "121/121 - 267s - loss: 0.2581 - accuracy: 0.9351 - val_loss: 7.4414 - val_accuracy: 0.6577\n",
                        "Epoch 5/35\n",
                        "121/121 - 260s - loss: 0.2189 - accuracy: 0.9418 - val_loss: 1.4556 - val_accuracy: 0.8604\n",
                        "Epoch 6/35\n",
                        "121/121 - 259s - loss: 0.2200 - accuracy: 0.9392 - val_loss: 0.2660 - val_accuracy: 0.9009\n",
                        "Epoch 7/35\n",
                        "121/121 - 261s - loss: 0.1904 - accuracy: 0.9439 - val_loss: 0.2408 - val_accuracy: 0.9144\n",
                        "Epoch 8/35\n",
                        "121/121 - 259s - loss: 0.1565 - accuracy: 0.9522 - val_loss: 0.3180 - val_accuracy: 0.9279\n",
                        "Epoch 9/35\n",
                        "121/121 - 261s - loss: 0.1648 - accuracy: 0.9535 - val_loss: 0.2182 - val_accuracy: 0.9189\n",
                        "Epoch 10/35\n",
                        "121/121 - 260s - loss: 0.1443 - accuracy: 0.9574 - val_loss: 0.2275 - val_accuracy: 0.9234\n",
                        "Epoch 11/35\n",
                        "121/121 - 258s - loss: 0.1410 - accuracy: 0.9556 - val_loss: 0.5217 - val_accuracy: 0.9189\n",
                        "Epoch 12/35\n",
                        "121/121 - 258s - loss: 0.1321 - accuracy: 0.9587 - val_loss: 0.2858 - val_accuracy: 0.9144\n",
                        "Epoch 13/35\n",
                        "121/121 - 260s - loss: 0.1219 - accuracy: 0.9605 - val_loss: 0.2724 - val_accuracy: 0.9189\n",
                        "Epoch 14/35\n",
                        "121/121 - 257s - loss: 0.1233 - accuracy: 0.9639 - val_loss: 0.2075 - val_accuracy: 0.9279\n",
                        "Epoch 15/35\n",
                        "121/121 - 258s - loss: 0.1323 - accuracy: 0.9621 - val_loss: 0.1424 - val_accuracy: 0.9550\n",
                        "Epoch 16/35\n",
                        "121/121 - 258s - loss: 0.1268 - accuracy: 0.9590 - val_loss: 0.1949 - val_accuracy: 0.9369\n",
                        "Epoch 17/35\n",
                        "121/121 - 257s - loss: 0.1290 - accuracy: 0.9665 - val_loss: 0.2191 - val_accuracy: 0.9550\n",
                        "Epoch 18/35\n",
                        "121/121 - 258s - loss: 0.0997 - accuracy: 0.9686 - val_loss: 0.3083 - val_accuracy: 0.9459\n",
                        "Epoch 19/35\n",
                        "121/121 - 258s - loss: 0.0830 - accuracy: 0.9732 - val_loss: 0.1490 - val_accuracy: 0.9414\n",
                        "Epoch 20/35\n",
                        "121/121 - 260s - loss: 0.0976 - accuracy: 0.9717 - val_loss: 0.2848 - val_accuracy: 0.9234\n",
                        "Epoch 21/35\n",
                        "121/121 - 258s - loss: 0.0771 - accuracy: 0.9748 - val_loss: 0.1990 - val_accuracy: 0.9505\n",
                        "Epoch 22/35\n",
                        "121/121 - 260s - loss: 0.0846 - accuracy: 0.9756 - val_loss: 0.2625 - val_accuracy: 0.9054\n",
                        "Epoch 23/35\n",
                        "121/121 - 258s - loss: 0.1076 - accuracy: 0.9686 - val_loss: 0.3279 - val_accuracy: 0.9324\n",
                        "Epoch 24/35\n",
                        "121/121 - 258s - loss: 0.1067 - accuracy: 0.9696 - val_loss: 0.2327 - val_accuracy: 0.9505\n",
                        "Epoch 25/35\n",
                        "121/121 - 258s - loss: 0.0784 - accuracy: 0.9743 - val_loss: 0.2951 - val_accuracy: 0.9459\n",
                        "Epoch 26/35\n",
                        "121/121 - 258s - loss: 0.0768 - accuracy: 0.9748 - val_loss: 0.2387 - val_accuracy: 0.9189\n",
                        "Epoch 27/35\n",
                        "121/121 - 259s - loss: 0.0898 - accuracy: 0.9722 - val_loss: 3.7658 - val_accuracy: 0.8739\n",
                        "Epoch 28/35\n",
                        "121/121 - 258s - loss: 0.0775 - accuracy: 0.9782 - val_loss: 0.1291 - val_accuracy: 0.9640\n",
                        "Epoch 29/35\n",
                        "121/121 - 258s - loss: 0.0597 - accuracy: 0.9818 - val_loss: 0.3929 - val_accuracy: 0.9414\n",
                        "Epoch 30/35\n",
                        "121/121 - 258s - loss: 0.0612 - accuracy: 0.9816 - val_loss: 0.1401 - val_accuracy: 0.9550\n",
                        "Epoch 31/35\n",
                        "121/121 - 257s - loss: 0.0618 - accuracy: 0.9810 - val_loss: 0.1968 - val_accuracy: 0.9459\n",
                        "Epoch 32/35\n",
                        "121/121 - 258s - loss: 0.0525 - accuracy: 0.9808 - val_loss: 0.1290 - val_accuracy: 0.9505\n",
                        "Epoch 33/35\n",
                        "121/121 - 258s - loss: 0.0573 - accuracy: 0.9818 - val_loss: 0.1457 - val_accuracy: 0.9595\n",
                        "Epoch 34/35\n",
                        "121/121 - 259s - loss: 0.0640 - accuracy: 0.9803 - val_loss: 0.1708 - val_accuracy: 0.9459\n",
                        "Epoch 35/35\n",
                        "121/121 - 259s - loss: 0.0573 - accuracy: 0.9829 - val_loss: 0.7653 - val_accuracy: 0.9414\n"
                    ]
                }
            ],
            "metadata": {}
        },
        {
            "cell_type": "code",
            "execution_count": 33,
            "source": [
                "plt.plot(metricVals.history['loss'])\r\n",
                "plt.plot(metricVals.history['val_loss'])\r\n",
                "plt.title('Model Loss')\r\n",
                "plt.ylabel('Loss')\r\n",
                "plt.xlabel('Epoch')\r\n",
                "plt.legend(['Test', 'Validation'], loc='upper right')\r\n",
                "plt.show()"
            ],
            "outputs": [
                {
                    "output_type": "display_data",
                    "data": {
                        "text/plain": [
                            "<Figure size 432x288 with 1 Axes>"
                        ],
                        "image/png": "[encoded data removed]"
                    },
                    "metadata": {
                        "needs_background": "light"
                    }
                }
            ],
            "metadata": {}
        },
        {
            "cell_type": "code",
            "execution_count": 34,
            "source": [
                "plt.plot(metricVals.history['accuracy'])\r\n",
                "plt.plot(metricVals.history['val_accuracy'])\r\n",
                "plt.title('Model Accuracy')\r\n",
                "plt.ylabel('Accuracy')\r\n",
                "plt.xlabel('Epoch')\r\n",
                "plt.legend(['Test', 'Validation'], loc='lower right')\r\n",
                "plt.show()"
            ],
            "outputs": [
                {
                    "output_type": "display_data",
                    "data": {
                        "text/plain": [
                            "<Figure size 432x288 with 1 Axes>"
                        ],
                        "image/png": "[encoded data removed]"
                    },
                    "metadata": {
                        "needs_background": "light"
                    }
                }
            ],
            "metadata": {}
        },
        {
            "cell_type": "code",
            "execution_count": 35,
            "source": [
                "model.save(\"FaceMaskModel.h5\")"
            ],
            "outputs": [],
            "metadata": {}
        }
    ],
    "metadata": {
        "orig_nbformat": 4,
        "language_info": {
            "name": "python",
            "version": "3.8.8",
            "mimetype": "text/x-python",
            "codemirror_mode": {
                "name": "ipython",
                "version": 3
            },
            "pygments_lexer": "ipython3",
            "nbconvert_exporter": "python",
            "file_extension": ".py"
        },
        "kernelspec": {
            "name": "python3",
            "display_name": "Python 3.8.8 64-bit"
        },
        "interpreter": {
            "hash": "1baa965d5efe3ac65b79dfc60c0d706280b1da80fedb7760faf2759126c4f253"
        }
    },
    "nbformat": 4,
    "nbformat_minor": 2
}