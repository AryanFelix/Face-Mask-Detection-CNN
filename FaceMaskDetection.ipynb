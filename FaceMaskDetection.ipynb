{
    "cells": [
        {
            "cell_type": "code",
            "execution_count": null,
            "source": [
                "import numpy as np\r\n",
                "import cv2\r\n",
                "\r\n",
                "from keras.models import load_model\r\n",
                "from keras.preprocessing import image\r\n",
                "from PIL import Image"
            ],
            "outputs": [
                {
                    "output_type": "error",
                    "ename": "Error",
                    "evalue": "Session cannot generate requests",
                    "traceback": [
                        "Error: Session cannot generate requests",
                        "at w.executeCodeCell (c:\\Users\\aryan\\.vscode\\extensions\\ms-toolsai.jupyter-2021.8.1054968649\\out\\client\\extension.js:90:320068)",
                        "at w.execute (c:\\Users\\aryan\\.vscode\\extensions\\ms-toolsai.jupyter-2021.8.1054968649\\out\\client\\extension.js:90:319389)",
                        "at w.start (c:\\Users\\aryan\\.vscode\\extensions\\ms-toolsai.jupyter-2021.8.1054968649\\out\\client\\extension.js:90:315205)",
                        "at runMicrotasks (<anonymous>)",
                        "at processTicksAndRejections (internal/process/task_queues.js:93:5)",
                        "at t.CellExecutionQueue.executeQueuedCells (c:\\Users\\aryan\\.vscode\\extensions\\ms-toolsai.jupyter-2021.8.1054968649\\out\\client\\extension.js:90:329732)",
                        "at t.CellExecutionQueue.start (c:\\Users\\aryan\\.vscode\\extensions\\ms-toolsai.jupyter-2021.8.1054968649\\out\\client\\extension.js:90:329272)"
                    ]
                }
            ],
            "metadata": {}
        },
        {
            "cell_type": "code",
            "execution_count": 2,
            "source": [
                "model = load_model(\"FaceMaskModel.h5\")\r\n",
                "face_cascade = cv2.CascadeClassifier('haarcascade_frontalface_alt2.xml') "
            ],
            "outputs": [],
            "metadata": {}
        },
        {
            "cell_type": "code",
            "execution_count": 3,
            "source": [
                "cap = cv2.VideoCapture(0)\r\n",
                "cap.set(3,640)\r\n",
                "cap.set(4,480)"
            ],
            "outputs": [
                {
                    "output_type": "execute_result",
                    "data": {
                        "text/plain": [
                            "False"
                        ]
                    },
                    "metadata": {},
                    "execution_count": 3
                }
            ],
            "metadata": {}
        },
        {
            "cell_type": "code",
            "execution_count": null,
            "source": [
                "while True:\r\n",
                "    success, temp = cap.read()\r\n",
                "    img = cv2.flip(temp, 1)\r\n",
                "    gray = cv2.cvtColor(img, cv2.COLOR_BGR2GRAY)\r\n",
                "    faces = face_cascade.detectMultiScale(gray, scaleFactor=1.1, minNeighbors=5, minSize=(60, 60), flags=cv2.CASCADE_SCALE_IMAGE)\r\n",
                "    for (x, y, w, h) in faces:  \r\n",
                "        faceFrame = img[y: y + h, x: x + w]\r\n",
                "        faceFrame = cv2.cvtColor(faceFrame, cv2.COLOR_BGR2RGB)\r\n",
                "        faceFrame = cv2.resize(faceFrame, (128, 128))\r\n",
                "        faceFrame = image.img_to_array(faceFrame)\r\n",
                "        faceFrame = np.expand_dims(faceFrame, axis=0)\r\n",
                "        faceFrame = faceFrame/255.0\r\n",
                "        predictions = model.predict(faceFrame)\r\n",
                "        print(predictions[0])\r\n",
                "        (incorrectMask, withMask, withoutMask) = predictions[0]\r\n",
                "        if incorrectMask > withMask:\r\n",
                "            if incorrectMask > withoutMask:\r\n",
                "                label = \"WEAR MASK PROPERLY!\"\r\n",
                "            else:\r\n",
                "                label = \"No Mask Detected\"\r\n",
                "        else:\r\n",
                "            if withMask > withoutMask:\r\n",
                "                label = \"Well Masked\"\r\n",
                "            else:\r\n",
                "                label = \"No Mask Detected\"\r\n",
                "        if label == \"Well Masked\":\r\n",
                "            color = (0, 255, 0)\r\n",
                "        elif label==\"No Mask Detected\":\r\n",
                "            color = (0, 0, 255)\r\n",
                "        else:\r\n",
                "            color = (255, 140, 0)\r\n",
                "        label = \"{}: {:.2f}%\".format(label, max(withMask, withoutMask) * 100)\r\n",
                "        cv2.putText(img, label, (x, y- 10), cv2.FONT_HERSHEY_SIMPLEX, 0.45, color, 2)\r\n",
                "        cv2.rectangle(img, (x, y), (x + w, y + h),color, 2)\r\n",
                "    cv2.imshow(\"Press 'x' to Exit!\", img)\r\n",
                "    if cv2.waitKey(1) & 0xFF ==ord('x'):\r\n",
                "        break\r\n",
                "cap.release()\r\n",
                "cv2.destroyAllWindows()"
            ],
            "outputs": [
                {
                    "output_type": "error",
                    "ename": "Error",
                    "evalue": "Session cannot generate requests",
                    "traceback": [
                        "Error: Session cannot generate requests",
                        "at w.executeCodeCell (c:\\Users\\aryan\\.vscode\\extensions\\ms-toolsai.jupyter-2021.8.1054968649\\out\\client\\extension.js:90:320068)",
                        "at w.execute (c:\\Users\\aryan\\.vscode\\extensions\\ms-toolsai.jupyter-2021.8.1054968649\\out\\client\\extension.js:90:319389)",
                        "at w.start (c:\\Users\\aryan\\.vscode\\extensions\\ms-toolsai.jupyter-2021.8.1054968649\\out\\client\\extension.js:90:315205)",
                        "at runMicrotasks (<anonymous>)",
                        "at processTicksAndRejections (internal/process/task_queues.js:93:5)",
                        "at t.CellExecutionQueue.executeQueuedCells (c:\\Users\\aryan\\.vscode\\extensions\\ms-toolsai.jupyter-2021.8.1054968649\\out\\client\\extension.js:90:329732)",
                        "at t.CellExecutionQueue.start (c:\\Users\\aryan\\.vscode\\extensions\\ms-toolsai.jupyter-2021.8.1054968649\\out\\client\\extension.js:90:329272)"
                    ]
                }
            ],
            "metadata": {}
        }
    ],
    "metadata": {
        "orig_nbformat": 4,
        "language_info": {
            "name": "python",
            "version": "3.8.8",
            "mimetype": "text/x-python",
            "codemirror_mode": {
                "name": "ipython",
                "version": 3
            },
            "pygments_lexer": "ipython3",
            "nbconvert_exporter": "python",
            "file_extension": ".py"
        },
        "kernelspec": {
            "name": "python3",
            "display_name": "Python 3.8.8 64-bit"
        },
        "interpreter": {
            "hash": "1baa965d5efe3ac65b79dfc60c0d706280b1da80fedb7760faf2759126c4f253"
        }
    },
    "nbformat": 4,
    "nbformat_minor": 2
}